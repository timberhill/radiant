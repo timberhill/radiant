{
 "cells": [
  {
   "cell_type": "code",
   "execution_count": 2,
   "metadata": {},
   "outputs": [
    {
     "name": "stderr",
     "output_type": "stream",
     "text": [
      "                        0 of 23, ETA:  --:--:--                                \r"
     ]
    },
    {
     "name": "stdout",
     "output_type": "stream",
     "text": [
      "[2020-02-27 14:48:56]\t[INPUT] star mass = 1.0 [Msun]\n",
      "[2020-02-27 14:48:56]\t[INPUT] planet mass = 10.0 [Mearth]\n",
      "[2020-02-27 14:48:56]\t[INPUT] a =  0.6 [AU]\n",
      "[2020-02-27 14:48:56]\t[INPUT] e =  0.1\n",
      "[2020-02-27 14:48:56]\t[INPUT] w =  0.6684507609859605 * pi\n",
      "[2020-02-27 14:48:56]\t[INPUT] v0 = 0.0\n",
      "[2020-02-27 14:48:56]\t[INPUT] period = 169.75 [days]\n",
      "\n",
      "[2020-02-27 14:48:56]\tgenerating orbit ...\n",
      "[2020-02-27 14:48:56]\tproducing profiles ...\n"
     ]
    },
    {
     "name": "stderr",
     "output_type": "stream",
     "text": [
      "                        23 of 23, Time: 0:00:38                                \n",
      "                        0 of 23, ETA:  --:--:--                                \r"
     ]
    },
    {
     "name": "stdout",
     "output_type": "stream",
     "text": [
      "[2020-02-27 14:49:34]\tcomputing template ...\n",
      "[2020-02-27 14:49:34]\tmeasuring RVs ...\n"
     ]
    },
    {
     "name": "stderr",
     "output_type": "stream",
     "text": [
      "                        23 of 23, Time: 0:00:06                                \n"
     ]
    },
    {
     "name": "stdout",
     "output_type": "stream",
     "text": [
      "[2020-02-27 14:49:40]\tcalculating periodogram ...\n",
      "Warning: 'stats' option is outdated. Please use 'verbose' instead.\n",
      "[2020-02-27 14:49:40]\tfitting orbit ...\n",
      "[2020-02-27 14:49:40]\t[OUTPUT] Mp = 9.04\t+-\t1.08\t(11.94 %)  [earth masses]\n",
      "[2020-02-27 14:49:40]\t[OUTPUT] a =  0.58\t+-\t0.06\t(9.81 %)  [AU]\n",
      "[2020-02-27 14:49:40]\t[OUTPUT] e =  0.24\t+-\t0.11\t(46.34 %)\n",
      "[2020-02-27 14:49:40]\t[OUTPUT] w =  1.61\t+-\t0.37\t(22.85 %)  [radians]\n",
      "[2020-02-27 14:49:40]\t[OUTPUT] v0 = 0.21\t+-\t0.09\t(42.83 %)  [m/s]\n",
      "[2020-02-27 14:49:40]\t[OUTPUT] P =  161.36\t+-\t4.96\t(3.07 %)  [days]\n",
      "[2020-02-27 14:49:40]\t[OUTPUT] LS P = 163.93 [days]\n",
      "\n",
      "[2020-02-27 14:49:40]\tchi2 = 0.16304079481232303\n",
      "[2020-02-27 14:49:40]\tRMS  = 0.46654764916154695\n",
      "[2020-02-27 14:49:41]\tproducing plots ...\n",
      "[2020-02-27 14:49:43]\tDONE\n",
      "\n",
      "\n"
     ]
    },
    {
     "data": {
      "text/plain": [
       "<Figure size 864x288 with 0 Axes>"
      ]
     },
     "metadata": {},
     "output_type": "display_data"
    },
    {
     "data": {
      "text/plain": [
       "<Figure size 864x432 with 0 Axes>"
      ]
     },
     "metadata": {},
     "output_type": "display_data"
    }
   ],
   "source": [
    "%run main.py"
   ]
  }
 ],
 "metadata": {
  "kernelspec": {
   "display_name": "Python 3",
   "language": "python",
   "name": "python3"
  },
  "language_info": {
   "codemirror_mode": {
    "name": "ipython",
    "version": 3
   },
   "file_extension": ".py",
   "mimetype": "text/x-python",
   "name": "python",
   "nbconvert_exporter": "python",
   "pygments_lexer": "ipython3",
   "version": "3.7.4"
  }
 },
 "nbformat": 4,
 "nbformat_minor": 4
}
